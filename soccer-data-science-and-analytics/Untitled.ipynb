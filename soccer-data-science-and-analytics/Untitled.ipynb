{
 "cells": [
  {
   "cell_type": "code",
   "execution_count": 23,
   "id": "d7c3e8cb",
   "metadata": {},
   "outputs": [
    {
     "name": "stdout",
     "output_type": "stream",
     "text": [
      "nan\n"
     ]
    }
   ],
   "source": [
    "import re\n",
    "import requests\n",
    "from bs4 import BeautifulSoup\n",
    "import numpy as np\n",
    "\n",
    "# Make a request to the website\n",
    "url = \"https://fbref.com/en/players/466fb2c5/Aaron-Ramsdale\"\n",
    "response = requests.get(url)\n",
    "\n",
    "# Parse the HTML content using BeautifulSoup\n",
    "soup = BeautifulSoup(response.content, \"html.parser\")\n",
    "meta = soup.find(\"div\", {\"id\":\"meta\"})\n",
    "# print(meta)\n",
    "# Find all span tags\n",
    "span_tags = meta.find_all(\"span\")\n",
    "#print(span_tags)\n",
    "\n",
    "# Loop through each span tag and extract the one with the text \"in\"\n",
    "for span in span_tags:\n",
    "    birthplace = re.sub(r'\\n\\s*', '', span.text) # remove newlines and spaces\n",
    "    match = re.search(r'^in\\b', birthplace)\n",
    "    if match:\n",
    "        nationality = birthplace.split(\",\")[-1]\n",
    "#         print(nationality)\n",
    "#         print(birthplace)\n",
    "        break\n",
    "        \n",
    "# Birth\n",
    "try:\n",
    "    birth = meta.find(\"span\", {\"id\": \"necrobirth\"}).get_text(strip=True)\n",
    "    print(birth)\n",
    "    #soup.find(\"div\", {\"id\":\"meta\"}).find(\"span\", {\"id\":\"necro-birth\"})['data-birth']\n",
    "except:\n",
    "    birth = np.nan\n",
    "print(birth)"
   ]
  },
  {
   "cell_type": "code",
   "execution_count": 16,
   "id": "811a2241",
   "metadata": {},
   "outputs": [
    {
     "name": "stdout",
     "output_type": "stream",
     "text": [
      "<div id=\"meta\">\n",
      "<div class=\"media-item\"> <img alt=\"Aaron Ramsdale headshot\" class=\"\" src=\"https://fbref.com/req/202302030/images/headshots/466fb2c5_2022.jpg\" style=\"\"/>\n",
      "</div><!-- div.media-item --><div>\n",
      "<h1>\n",
      "<span>Aaron Ramsdale</span>\n",
      "</h1>\n",
      "<p><strong>Position:</strong> GK ▪  <strong>Footed:</strong> Right</p>\n",
      "<p><span>195cm</span>, <span>79kg</span> (6-4½, 174lb)</p>\n",
      "<p>\n",
      "<strong>Born:</strong>\n",
      "<span data-birth=\"1998-05-14\" id=\"necro-birth\">\n",
      "    May 14, 1998\n",
      "    </span>\n",
      "<span>\n",
      "    \n",
      "      in Staffordshire, England, United Kingdom\n",
      "    \n",
      "  </span>\n",
      "<span class=\"f-i\" style=\"background-image:url('https://cdn.ssref.net/req/202303231/flags/gb-eng-1998.svg'); \">eng</span>\n",
      "</p>\n",
      "<p><strong>National Team:</strong> <a href=\"/en/country/ENG/England-Football\">England</a> <span class=\"f-i f-gb-eng\" style=\"\">eng</span></p>\n",
      "<p><strong>Club:</strong> <a href=\"/en/squads/18bb7c10/Arsenal-Stats\">Arsenal</a></p>\n",
      "<p> <strong>Wages</strong>: \n",
      "    <a href=\"#all_wages\" style=\"text-decoration: none\">\n",
      "<span class=\"important poptip\" data-tip=\"    \n",
      "    &lt;strong&gt;Wages in Pounds:&lt;/strong&gt;\n",
      "    &lt;br&gt;Annual: £ 3,120,000. Weekly: £ 60,000&lt;br&gt;\n",
      "    &lt;strong&gt;Wages in Euros:&lt;/strong&gt;\n",
      "    &lt;br&gt;Annual: € 3,532,746. Weekly: € 67,937&lt;br&gt;\n",
      "    &lt;strong&gt;Wages in Dollars:&lt;/strong&gt;\n",
      "    &lt;br&gt;Annual: $3,753,389. Weekly: $72,181\n",
      "\"><span style=\"color:#932a12\">£ 60,000 Weekly</span></span>\n",
      "</a>\n",
      "        Expires June 2025. Via <a href=\"https://www.capology.com\" rel=\"nofollow noopener\" target=\"_blank\">Capology</a>.\n",
      "    </p>\n",
      "<p><strong>\n",
      "  Twitter:\n",
      "  </strong>\n",
      "<a href=\"https://twitter.com/AaronRamsdale98\" rel=\"nofollow noopener\" target=\"_blank\">@AaronRamsdale98</a></p>\n",
      "<p><strong>Instagram:</strong> <a href=\"https://instagram.com/aaronramsdale/\" rel=\"nofollow noopener\" target=\"_blank\">@aaronramsdale</a></p>\n",
      "<button class=\"opener\" data-class=\"open\" data-id=\"info\" data-type=\"hide_after\" id=\"meta_more_button\">More Player Info</button>\n",
      "<script>\n",
      "// see sr.menus.js:sr_menus_checkInfoCookie to explain\n",
      "function sr_menus_checkInfoCookie_inline(browserType) {\n",
      "    var el_info = document.getElementById('info');\n",
      "    var el_button = document.getElementById('meta_more_button');\n",
      "    var bling_len = 0;    \n",
      "    if (!el_button || !el_info || !el_info.classList) { console.log('no meta_button'); return; }\n",
      "    var el = el_button;\n",
      "    var siblingsHidden = 0;\n",
      "    while (el = el.previousSibling) { if ((el.nodeType === 1) && (el.offsetWidth <= 0 || el.offsetHeight <= 0)) { siblingsHidden++; } }\n",
      "    var button_cookie = false;\n",
      "    if (browserType === 'desktop') {  button_cookie = vjs_readCookie('meta_more_button');   }\n",
      "    // We allow up to four of bling lines or additional player bio data entries in mobile.\n",
      "    if (el_info && el_button && (button_cookie || (siblingsHidden + bling_len <= 4))) {el_button.parentNode.removeChild(el_button);\tel_info.classList.add('open');  }\n",
      "    else { el_button.classList.add('show');  }\n",
      "}\n",
      "if (Modernizr.desktop || Modernizr.laptop) { sr_menus_checkInfoCookie_inline('desktop'); } else { sr_menus_checkInfoCookie_inline('mobile'); }\n",
      "var sr_menus_checkInfoCookie_run_inline = true;\n",
      "</script>\n",
      "</div>\n",
      "</div>\n"
     ]
    }
   ],
   "source": [
    "print(meta)"
   ]
  },
  {
   "cell_type": "code",
   "execution_count": 25,
   "id": "c38a2887",
   "metadata": {},
   "outputs": [
    {
     "name": "stdout",
     "output_type": "stream",
     "text": [
      "May 14, 1998\n"
     ]
    }
   ],
   "source": [
    "birth = meta.find(\"span\", {\"id\": \"necro-birth\"}).get_text(strip=True)\n",
    "print(birth)"
   ]
  },
  {
   "cell_type": "code",
   "execution_count": 26,
   "id": "955175de",
   "metadata": {},
   "outputs": [
    {
     "name": "stdout",
     "output_type": "stream",
     "text": [
      "195\n"
     ]
    }
   ],
   "source": [
    "# Find the span tag containing the height of the player\n",
    "height_tag = meta.find('span', text=lambda t: t and 'cm' in t)\n",
    "\n",
    "# Extract the height from the tag\n",
    "height = int(height_tag.text.split('cm')[0])\n",
    "\n",
    "print(height)"
   ]
  },
  {
   "cell_type": "code",
   "execution_count": 27,
   "id": "1f327ed3",
   "metadata": {},
   "outputs": [
    {
     "name": "stdout",
     "output_type": "stream",
     "text": [
      "79\n"
     ]
    }
   ],
   "source": [
    "# Find the span tag containing the weight of the player\n",
    "weight_tag = meta.find('span', text=lambda t: t and 'kg' in t)\n",
    "\n",
    "# Extract the height from the tag\n",
    "weight = int(weight_tag.text.split('kg')[0])\n",
    "\n",
    "print(weight)"
   ]
  },
  {
   "cell_type": "code",
   "execution_count": 29,
   "id": "e62d13f6",
   "metadata": {},
   "outputs": [
    {
     "name": "stdout",
     "output_type": "stream",
     "text": [
      "[<p><strong>Position:</strong> GK ▪  <strong>Footed:</strong> Right</p>, <p><span>195cm</span>, <span>79kg</span> (6-4½, 174lb)</p>, <p>\n",
      "<strong>Born:</strong>\n",
      "<span data-birth=\"1998-05-14\" id=\"necro-birth\">\n",
      "    May 14, 1998\n",
      "    </span>\n",
      "<span>\n",
      "    \n",
      "      in Staffordshire, England, United Kingdom\n",
      "    \n",
      "  </span>\n",
      "<span class=\"f-i\" style=\"background-image:url('https://cdn.ssref.net/req/202303231/flags/gb-eng-1998.svg'); \">eng</span>\n",
      "</p>, <p><strong>National Team:</strong> <a href=\"/en/country/ENG/England-Football\">England</a> <span class=\"f-i f-gb-eng\" style=\"\">eng</span></p>, <p><strong>Club:</strong> <a href=\"/en/squads/18bb7c10/Arsenal-Stats\">Arsenal</a></p>, <p> <strong>Wages</strong>: \n",
      "    <a href=\"#all_wages\" style=\"text-decoration: none\">\n",
      "<span class=\"important poptip\" data-tip=\"    \n",
      "    &lt;strong&gt;Wages in Pounds:&lt;/strong&gt;\n",
      "    &lt;br&gt;Annual: £ 3,120,000. Weekly: £ 60,000&lt;br&gt;\n",
      "    &lt;strong&gt;Wages in Euros:&lt;/strong&gt;\n",
      "    &lt;br&gt;Annual: € 3,532,746. Weekly: € 67,937&lt;br&gt;\n",
      "    &lt;strong&gt;Wages in Dollars:&lt;/strong&gt;\n",
      "    &lt;br&gt;Annual: $3,753,389. Weekly: $72,181\n",
      "\"><span style=\"color:#932a12\">£ 60,000 Weekly</span></span>\n",
      "</a>\n",
      "        Expires June 2025. Via <a href=\"https://www.capology.com\" rel=\"nofollow noopener\" target=\"_blank\">Capology</a>.\n",
      "    </p>, <p><strong>\n",
      "  Twitter:\n",
      "  </strong>\n",
      "<a href=\"https://twitter.com/AaronRamsdale98\" rel=\"nofollow noopener\" target=\"_blank\">@AaronRamsdale98</a></p>, <p><strong>Instagram:</strong> <a href=\"https://instagram.com/aaronramsdale/\" rel=\"nofollow noopener\" target=\"_blank\">@aaronramsdale</a></p>]\n"
     ]
    }
   ],
   "source": [
    "detail = meta.find_all(\"p\")\n",
    "print(detail)"
   ]
  },
  {
   "cell_type": "code",
   "execution_count": 32,
   "id": "00ae9f65",
   "metadata": {},
   "outputs": [
    {
     "name": "stdout",
     "output_type": "stream",
     "text": [
      "Position: GK ▪  Footed: Right\n",
      "<p><strong>Position:</strong> GK ▪  <strong>Footed:</strong> Right</p>\n"
     ]
    }
   ],
   "source": [
    "print(detail[0].text)\n",
    "print(detail[0])"
   ]
  },
  {
   "cell_type": "code",
   "execution_count": 34,
   "id": "3a802478",
   "metadata": {},
   "outputs": [
    {
     "name": "stdout",
     "output_type": "stream",
     "text": [
      "nan\n"
     ]
    }
   ],
   "source": [
    "def Filter(string, substr):\n",
    "    return [str for str in string if\n",
    "            any(sub in str for sub in substr)] \n",
    "\n",
    "# Player Full Name\n",
    "if len(Filter([detail[0].text], [\"Position\", \"Club\", \"Born\", \"National Team\", \"Citizenship\"])) > 0:\n",
    "        playerFullName = np.nan\n",
    "else:\n",
    "    playerFullName = detail[0].get_text()\n",
    "print(playerFullName)"
   ]
  },
  {
   "cell_type": "code",
   "execution_count": 36,
   "id": "8be5da25",
   "metadata": {},
   "outputs": [
    {
     "name": "stdout",
     "output_type": "stream",
     "text": [
      "['<p><strong>Position:</strong> GK\\xa0▪\\xa0 <strong>Footed:</strong> Right</p>']\n",
      "['<p><strong>Position:</strong> GK\\xa0▪\\xa0 <strong>Footed:</strong> Right</p>']\n"
     ]
    }
   ],
   "source": [
    "# Position & Footed\n",
    "fp = list(map(lambda x: str(x), detail))\n",
    "#print(fp)\n",
    "position = Filter(fp, [\"Position\"])\n",
    "print(position)\n",
    "footed = Filter(fp, [\"Footed\"])\n",
    "print(footed)\n",
    "if len(position) > 0:\n",
    "    position = position[0].split(\"<strong>\")[1].replace(\"Position:</strong>\",\"\").replace(\"\\n\", \"\").replace(\"<p>\", \"\").replace(\"</p>\", \"\").replace(\"\\xa0\", \"\").replace(\"▪\", \"\").split(\"<span\")[0].strip()\n",
    "else:\n",
    "    position = np.nan\n",
    "\n",
    "if len(footed) > 0:\n",
    "    footed = footed[0].split(\"<strong>Footed:</strong>\")[1].split(\"<span\")[0].strip().replace(\"</p>\", \"\").upper()\n",
    "    footed = footed.split(\"% \")\n",
    "    if len(footed) > 1:\n",
    "        foot = footed[1]\n",
    "        foot_ability = int(footed[0]) \n",
    "    else:\n",
    "        foot = footed[0]\n",
    "        foot_ability = 100\n",
    "else:\n",
    "    foot = np.nan\n",
    "    foot_ability = np.nan"
   ]
  },
  {
   "cell_type": "code",
   "execution_count": 38,
   "id": "357e1067",
   "metadata": {},
   "outputs": [
    {
     "name": "stdout",
     "output_type": "stream",
     "text": [
      "GK\n"
     ]
    }
   ],
   "source": [
    "print(position)"
   ]
  },
  {
   "cell_type": "code",
   "execution_count": 39,
   "id": "75b7d35b",
   "metadata": {},
   "outputs": [
    {
     "name": "stdout",
     "output_type": "stream",
     "text": [
      "['<p><strong>Position:</strong> GK\\xa0▪\\xa0 <strong>Footed:</strong> Right</p>']\n"
     ]
    }
   ],
   "source": [
    "footed = Filter(fp, [\"Footed\"])\n",
    "print(footed)"
   ]
  },
  {
   "cell_type": "code",
   "execution_count": 44,
   "id": "349c3222",
   "metadata": {},
   "outputs": [
    {
     "name": "stdout",
     "output_type": "stream",
     "text": [
      "RIGHT\n"
     ]
    }
   ],
   "source": [
    "print(footed[0].split(\"<strong>Footed:</strong>\")[1].split(\"<span\")[0].strip().replace(\"</p>\", \"\").upper())"
   ]
  },
  {
   "cell_type": "code",
   "execution_count": 45,
   "id": "ec81ed15",
   "metadata": {},
   "outputs": [
    {
     "ename": "AttributeError",
     "evalue": "'list' object has no attribute 'split'",
     "output_type": "error",
     "traceback": [
      "\u001b[1;31m---------------------------------------------------------------------------\u001b[0m",
      "\u001b[1;31mAttributeError\u001b[0m                            Traceback (most recent call last)",
      "\u001b[1;32m~\\AppData\\Local\\Temp\\ipykernel_13860\\416306862.py\u001b[0m in \u001b[0;36m<module>\u001b[1;34m\u001b[0m\n\u001b[1;32m----> 1\u001b[1;33m \u001b[0mprint\u001b[0m\u001b[1;33m(\u001b[0m\u001b[0mfooted\u001b[0m\u001b[1;33m.\u001b[0m\u001b[0msplit\u001b[0m\u001b[1;33m(\u001b[0m\u001b[1;34m\"% \"\u001b[0m\u001b[1;33m)\u001b[0m\u001b[1;33m)\u001b[0m\u001b[1;33m\u001b[0m\u001b[1;33m\u001b[0m\u001b[0m\n\u001b[0m",
      "\u001b[1;31mAttributeError\u001b[0m: 'list' object has no attribute 'split'"
     ]
    }
   ],
   "source": [
    "print(footed.split(\"% \"))"
   ]
  },
  {
   "cell_type": "code",
   "execution_count": null,
   "id": "8fa3ead8",
   "metadata": {},
   "outputs": [],
   "source": []
  }
 ],
 "metadata": {
  "kernelspec": {
   "display_name": "Python 3 (ipykernel)",
   "language": "python",
   "name": "python3"
  },
  "language_info": {
   "codemirror_mode": {
    "name": "ipython",
    "version": 3
   },
   "file_extension": ".py",
   "mimetype": "text/x-python",
   "name": "python",
   "nbconvert_exporter": "python",
   "pygments_lexer": "ipython3",
   "version": "3.9.13"
  }
 },
 "nbformat": 4,
 "nbformat_minor": 5
}
